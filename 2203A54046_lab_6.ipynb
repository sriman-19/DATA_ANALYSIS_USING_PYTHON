{
  "nbformat": 4,
  "nbformat_minor": 0,
  "metadata": {
    "colab": {
      "provenance": []
    },
    "kernelspec": {
      "name": "python3",
      "display_name": "Python 3"
    },
    "language_info": {
      "name": "python"
    }
  },
  "cells": [
    {
      "cell_type": "code",
      "execution_count": 4,
      "metadata": {
        "colab": {
          "base_uri": "https://localhost:8080/"
        },
        "id": "neV9tmQsUwRM",
        "outputId": "badc5441-d5d5-4941-b1da-42f383350057"
      },
      "outputs": [
        {
          "output_type": "stream",
          "name": "stdout",
          "text": [
            "Successfully loaded the dataset.\n",
            "    Invoice ID Branch       City Customer type  Gender  \\\n",
            "0  750-67-8428      A     Yangon        Member  Female   \n",
            "1  226-31-3081      C  Naypyitaw        Normal  Female   \n",
            "2  631-41-3108      A     Yangon        Normal    Male   \n",
            "3  123-19-1176      A     Yangon        Member    Male   \n",
            "4  373-73-7910      A     Yangon        Normal    Male   \n",
            "\n",
            "             Product line  Unit price  Quantity   Tax 5%     Total       Date  \\\n",
            "0       Health and beauty       74.69         7  26.1415  548.9715   1/5/2019   \n",
            "1  Electronic accessories       15.28         5   3.8200   80.2200   3/8/2019   \n",
            "2      Home and lifestyle       46.33         7  16.2155  340.5255   3/3/2019   \n",
            "3       Health and beauty       58.22         8  23.2880  489.0480  1/27/2019   \n",
            "4       Sports and travel       86.31         7  30.2085  634.3785   2/8/2019   \n",
            "\n",
            "    Time      Payment    cogs  gross margin percentage  gross income  Rating  \n",
            "0  13:08      Ewallet  522.83                 4.761905       26.1415     9.1  \n",
            "1  10:29         Cash   76.40                 4.761905        3.8200     9.6  \n",
            "2  13:23  Credit card  324.31                 4.761905       16.2155     7.4  \n",
            "3  20:33      Ewallet  465.76                 4.761905       23.2880     8.4  \n",
            "4  10:37      Ewallet  604.17                 4.761905       30.2085     5.3  \n",
            "<class 'pandas.core.frame.DataFrame'>\n",
            "RangeIndex: 1000 entries, 0 to 999\n",
            "Data columns (total 17 columns):\n",
            " #   Column                   Non-Null Count  Dtype  \n",
            "---  ------                   --------------  -----  \n",
            " 0   Invoice ID               1000 non-null   object \n",
            " 1   Branch                   1000 non-null   object \n",
            " 2   City                     1000 non-null   object \n",
            " 3   Customer type            1000 non-null   object \n",
            " 4   Gender                   1000 non-null   object \n",
            " 5   Product line             1000 non-null   object \n",
            " 6   Unit price               1000 non-null   float64\n",
            " 7   Quantity                 1000 non-null   int64  \n",
            " 8   Tax 5%                   1000 non-null   float64\n",
            " 9   Total                    1000 non-null   float64\n",
            " 10  Date                     1000 non-null   object \n",
            " 11  Time                     1000 non-null   object \n",
            " 12  Payment                  1000 non-null   object \n",
            " 13  cogs                     1000 non-null   float64\n",
            " 14  gross margin percentage  1000 non-null   float64\n",
            " 15  gross income             1000 non-null   float64\n",
            " 16  Rating                   1000 non-null   float64\n",
            "dtypes: float64(7), int64(1), object(9)\n",
            "memory usage: 132.9+ KB\n",
            "None\n"
          ]
        }
      ],
      "source": [
        "#Load the Supermarket Sales Dataset, which includes attributes such as Invoice ID, Branch, City, Customer Type, Gender, Product Line, Unit Price, Quantity, Payment Method, and Rating.\n",
        "# use the file supermarket_sales\n",
        "\n",
        "import pandas as pd\n",
        "\n",
        "# Assuming the file is named 'supermarket_sales.csv' and is in the current directory\n",
        "try:\n",
        "  df = pd.read_csv('supermarket_sales.csv')\n",
        "  print(\"Successfully loaded the dataset.\")\n",
        "  # Print some info about the dataset\n",
        "  print(df.head())\n",
        "  print(df.info())\n",
        "except FileNotFoundError:\n",
        "  print(\"Error: 'supermarket_sales.csv' not found. Please ensure the file exists in the current directory or provide the correct path.\")\n",
        "except Exception as e:\n",
        "  print(f\"An error occurred: {e}\")\n"
      ]
    },
    {
      "cell_type": "code",
      "source": [
        "# Define two events based on the dataset features. Examples:\n",
        "# Event A: A transaction is made by a Member customer.\n",
        "# Event B: A transaction was made using Credit Card payment.\n",
        "\n",
        "# Define events based on dataset features\n",
        "def event_a(row):\n",
        "  \"\"\"Checks if a transaction was made by a member customer.\"\"\"\n",
        "  return row['Customer type'] == 'Member'\n",
        "\n",
        "def event_b(row):\n",
        "  \"\"\"Checks if a transaction was made using Credit Card payment.\"\"\"\n",
        "  return row['Payment'] == 'Credit card'\n",
        "\n",
        "# Apply the functions to create new columns indicating the events\n",
        "try:\n",
        "  df['Event A'] = df.apply(event_a, axis=1)\n",
        "  df['Event B'] = df.apply(event_b, axis=1)\n",
        "\n",
        "  # Print some examples to verify the new columns\n",
        "  print(df[['Customer type', 'Payment', 'Event A', 'Event B']].head())\n",
        "\n",
        "except KeyError as e:\n",
        "    print(f\"Error: Column '{e}' not found in the DataFrame. Please ensure the file contains the required columns.\")\n",
        "except Exception as e:\n",
        "    print(f\"An error occurred: {e}\")\n"
      ],
      "metadata": {
        "colab": {
          "base_uri": "https://localhost:8080/"
        },
        "id": "jmbn10BoWgKh",
        "outputId": "0841015c-eeec-4442-eb1d-0ee1f7383b20"
      },
      "execution_count": 5,
      "outputs": [
        {
          "output_type": "stream",
          "name": "stdout",
          "text": [
            "  Customer type      Payment  Event A  Event B\n",
            "0        Member      Ewallet     True    False\n",
            "1        Normal         Cash    False    False\n",
            "2        Normal  Credit card    False     True\n",
            "3        Member      Ewallet     True    False\n",
            "4        Normal      Ewallet    False    False\n"
          ]
        }
      ]
    },
    {
      "cell_type": "code",
      "source": [
        "# Write a Python program to:\n",
        "# Compute P(A), P(B), P(A ∪ B), P(A ∩ B), and P(A | B).\n",
        "# Use the formulae:\n",
        "# Union: P(A ∪ B) = P(A) + P(B) - P(A ∩ B)\n",
        "# Intersection: P(A ∩ B) = count(A and B) / total transactions\n",
        "# Conditional: P(A | B) = P(A ∩ B) / P(B)\n",
        "\n",
        "# Calculate probabilities\n",
        "total_transactions = len(df)\n",
        "count_a = df['Event A'].sum()\n",
        "count_b = df['Event B'].sum()\n",
        "count_a_and_b = len(df[(df['Event A'] == True) & (df['Event B'] == True)])\n",
        "\n",
        "p_a = count_a / total_transactions\n",
        "p_b = count_b / total_transactions\n",
        "p_a_and_b = count_a_and_b / total_transactions\n",
        "p_a_union_b = p_a + p_b - p_a_and_b\n",
        "\n",
        "if p_b > 0 :\n",
        "  p_a_given_b = p_a_and_b / p_b\n",
        "else:\n",
        "  p_a_given_b = 0 # Handle the case where P(B) is zero to avoid division by zero\n",
        "\n",
        "\n",
        "# Print the results\n",
        "print(f\"P(A): {p_a}\")\n",
        "print(f\"P(B): {p_b}\")\n",
        "print(f\"P(A ∩ B): {p_a_and_b}\")\n",
        "print(f\"P(A ∪ B): {p_a_union_b}\")\n",
        "print(f\"P(A | B): {p_a_given_b}\")\n"
      ],
      "metadata": {
        "colab": {
          "base_uri": "https://localhost:8080/"
        },
        "id": "5Dy0xmJ8XAcD",
        "outputId": "f413a484-86f4-4147-e9ed-772a13f4bb00"
      },
      "execution_count": 6,
      "outputs": [
        {
          "output_type": "stream",
          "name": "stdout",
          "text": [
            "P(A): 0.501\n",
            "P(B): 0.311\n",
            "P(A ∩ B): 0.172\n",
            "P(A ∪ B): 0.6400000000000001\n",
            "P(A | B): 0.5530546623794211\n"
          ]
        }
      ]
    },
    {
      "cell_type": "code",
      "source": [
        "# What is the probability that a randomly chosen transaction belongs to the Health & Beauty product line?\n",
        "\n",
        "# Calculate the probability of a transaction belonging to the Health & Beauty product line.\n",
        "try:\n",
        "    health_beauty_count = len(df[df['Product line'] == 'Health and beauty'])\n",
        "    p_health_beauty = health_beauty_count / total_transactions\n",
        "    print(f\"P(Health & Beauty): {p_health_beauty}\")\n",
        "except KeyError as e:\n",
        "    print(f\"Error: Column '{e}' not found in the DataFrame. Please ensure the file contains the required columns.\")\n",
        "except Exception as e:\n",
        "    print(f\"An error occurred: {e}\")\n"
      ],
      "metadata": {
        "colab": {
          "base_uri": "https://localhost:8080/"
        },
        "id": "IYvJZxydXNfs",
        "outputId": "9bc77f57-83e0-4757-f819-68e6f2de8803"
      },
      "execution_count": 7,
      "outputs": [
        {
          "output_type": "stream",
          "name": "stdout",
          "text": [
            "P(Health & Beauty): 0.152\n"
          ]
        }
      ]
    },
    {
      "cell_type": "code",
      "source": [
        "# Given that a customer used Ewallet, what is the probability that they purchased more than 5 items?\n",
        "\n",
        "# Calculate the probability that a customer purchased more than 5 items given they used Ewallet.\n",
        "\n",
        "try:\n",
        "    # Filter transactions where payment method is Ewallet\n",
        "    ewallet_transactions = df[df['Payment'] == 'Ewallet']\n",
        "\n",
        "    # Count transactions with more than 5 items and Ewallet payment\n",
        "    more_than_5_and_ewallet = len(ewallet_transactions[ewallet_transactions['Quantity'] > 5])\n",
        "\n",
        "    # Calculate the probability\n",
        "    if len(ewallet_transactions) > 0:\n",
        "        p_more_than_5_given_ewallet = more_than_5_and_ewallet / len(ewallet_transactions)\n",
        "        print(f\"P(Quantity > 5 | Payment = Ewallet): {p_more_than_5_given_ewallet}\")\n",
        "    else:\n",
        "        print(\"No transactions found with Ewallet payment method.\")\n",
        "\n",
        "except KeyError as e:\n",
        "    print(f\"Error: Column '{e}' not found in the DataFrame. Please ensure the file contains the required columns.\")\n",
        "except Exception as e:\n",
        "    print(f\"An error occurred: {e}\")\n"
      ],
      "metadata": {
        "colab": {
          "base_uri": "https://localhost:8080/"
        },
        "id": "izeO_MgEXgr_",
        "outputId": "43c3bc1e-ba6f-41f5-978a-48c97e15a70a"
      },
      "execution_count": 8,
      "outputs": [
        {
          "output_type": "stream",
          "name": "stdout",
          "text": [
            "P(Quantity > 5 | Payment = Ewallet): 0.48695652173913045\n"
          ]
        }
      ]
    },
    {
      "cell_type": "code",
      "source": [
        "# What is the probability that a randomly selected transaction from Yangon used Cash as the payment method?\n",
        "\n",
        "# Calculate the probability that a randomly selected transaction from Yangon used Cash as the payment method.\n",
        "try:\n",
        "    yangon_transactions = df[df['City'] == 'Yangon']\n",
        "    yangon_cash_transactions = yangon_transactions[yangon_transactions['Payment'] == 'Cash']\n",
        "\n",
        "    if len(yangon_transactions) > 0:\n",
        "        p_yangon_cash = len(yangon_cash_transactions) / len(yangon_transactions)\n",
        "        print(f\"P(Cash | Yangon): {p_yangon_cash}\")\n",
        "    else:\n",
        "        print(\"No transactions found for Yangon.\")\n",
        "except KeyError as e:\n",
        "    print(f\"Error: Column '{e}' not found in the DataFrame.\")\n",
        "except Exception as e:\n",
        "    print(f\"An error occurred: {e}\")\n"
      ],
      "metadata": {
        "colab": {
          "base_uri": "https://localhost:8080/"
        },
        "id": "534W-UTfXl_b",
        "outputId": "b7a0ec72-095b-49c4-c704-0f9da5da7ef1"
      },
      "execution_count": 9,
      "outputs": [
        {
          "output_type": "stream",
          "name": "stdout",
          "text": [
            "P(Cash | Yangon): 0.3235294117647059\n"
          ]
        }
      ]
    },
    {
      "cell_type": "code",
      "source": [
        "# Compute the probability of selecting a customer who is a Member and has given a rating above 8.\n",
        "\n",
        "# Calculate the probability of selecting a customer who is a Member and has given a rating above 8.\n",
        "try:\n",
        "    member_high_rating = len(df[(df['Customer type'] == 'Member') & (df['Rating'] > 8)])\n",
        "    total_customers = len(df)\n",
        "    probability = member_high_rating / total_customers\n",
        "    print(f\"Probability of a Member with rating > 8: {probability}\")\n",
        "except KeyError as e:\n",
        "    print(f\"Error: Column '{e}' not found in the DataFrame.\")\n",
        "except Exception as e:\n",
        "    print(f\"An error occurred: {e}\")\n"
      ],
      "metadata": {
        "colab": {
          "base_uri": "https://localhost:8080/"
        },
        "id": "4KesTB_-XuA5",
        "outputId": "b87ea7a4-027b-4a80-fbf8-635fa39de4b9"
      },
      "execution_count": 10,
      "outputs": [
        {
          "output_type": "stream",
          "name": "stdout",
          "text": [
            "Probability of a Member with rating > 8: 0.157\n"
          ]
        }
      ]
    },
    {
      "cell_type": "code",
      "source": [
        "# Implement functions in Python to compute:\n",
        "# Factorial of a number.\n",
        "# Permutations: P(n, r) = n! / (n-r)!\n",
        "# Combinations: C(n, r) = n! / (r!(n-r)!)\n",
        "\n",
        "def factorial(n):\n",
        "  \"\"\"Computes the factorial of a non-negative integer.\"\"\"\n",
        "  if n < 0:\n",
        "    return \"Factorial is not defined for negative numbers.\"\n",
        "  elif n == 0:\n",
        "    return 1\n",
        "  else:\n",
        "    fact = 1\n",
        "    for i in range(1, n + 1):\n",
        "      fact *= i\n",
        "    return fact\n",
        "\n",
        "def permutations(n, r):\n",
        "  \"\"\"Computes the number of permutations of n items taken r at a time.\"\"\"\n",
        "  if n < 0 or r < 0 or r > n:\n",
        "    return \"Invalid input for permutations.\"\n",
        "  else:\n",
        "    return factorial(n) // factorial(n - r)\n",
        "\n",
        "def combinations(n, r):\n",
        "  \"\"\"Computes the number of combinations of n items taken r at a time.\"\"\"\n",
        "  if n < 0 or r < 0 or r > n:\n",
        "    return \"Invalid input for combinations.\"\n",
        "  else:\n",
        "    return factorial(n) // (factorial(r) * factorial(n - r))\n"
      ],
      "metadata": {
        "id": "BF9ivAWBX-Vp"
      },
      "execution_count": 11,
      "outputs": []
    },
    {
      "cell_type": "code",
      "source": [
        "# Use your functions to solve dataset-based scenarios.\n",
        "# Permutation: In how many different ways can 5 different transactions be arranged from a day's sales of 20 transactions?\n",
        "# Combination: How many ways can 3 different product lines be selected from the 6 available product categories?\n",
        "# Factorial: Compute the factorial of the total number of different branches in the dataset.\n",
        "\n",
        "# Calculate Permutation: In how many different ways can 5 different transactions be arranged from a day's sales of 20 transactions?\n",
        "n_transactions = 20\n",
        "r_transactions = 5\n",
        "permutation_result = permutations(n_transactions, r_transactions)\n",
        "print(f\"Permutation of transactions: {permutation_result}\")\n",
        "\n",
        "# Calculate Combination: How many ways can 3 different product lines be selected from the 6 available product categories?\n",
        "n_product_lines = 6\n",
        "r_product_lines = 3\n",
        "combination_result = combinations(n_product_lines, r_product_lines)\n",
        "print(f\"Combination of product lines: {combination_result}\")\n",
        "\n",
        "# Calculate Factorial: Compute the factorial of the total number of different branches in the dataset.\n",
        "try:\n",
        "  unique_branches = df['Branch'].nunique()\n",
        "  factorial_branches = factorial(unique_branches)\n",
        "  print(f\"Factorial of unique branches: {factorial_branches}\")\n",
        "except KeyError as e:\n",
        "  print(f\"Error: Column '{e}' not found in the DataFrame.\")\n",
        "except Exception as e:\n",
        "  print(f\"An error occurred: {e}\")\n"
      ],
      "metadata": {
        "colab": {
          "base_uri": "https://localhost:8080/"
        },
        "id": "SVjpckUdYTjC",
        "outputId": "9c50e293-b3f6-4989-b4cb-77ce6c213bec"
      },
      "execution_count": 12,
      "outputs": [
        {
          "output_type": "stream",
          "name": "stdout",
          "text": [
            "Permutation of transactions: 1860480\n",
            "Combination of product lines: 20\n",
            "Factorial of unique branches: 6\n"
          ]
        }
      ]
    },
    {
      "cell_type": "code",
      "source": [
        "# If the supermarket wants to display 4 different payment methods on a promotion banner from the available 3 types, in how many ways can this be done?\n",
        "\n",
        "def combinations(n, r):\n",
        "  \"\"\"Computes the number of combinations of n items taken r at a time.\"\"\"\n",
        "  if n < 0 or r < 0 or r > n:\n",
        "    return \"Invalid input for combinations.\"\n",
        "  else:\n",
        "    return factorial(n) // (factorial(r) * factorial(n - r))\n",
        "\n",
        "def factorial(n):\n",
        "  \"\"\"Computes the factorial of a non-negative integer.\"\"\"\n",
        "  if n < 0:\n",
        "    return \"Factorial is not defined for negative numbers.\"\n",
        "  elif n == 0:\n",
        "    return 1\n",
        "  else:\n",
        "    fact = 1\n",
        "    for i in range(1, n + 1):\n",
        "      fact *= i\n",
        "    return fact\n",
        "\n",
        "# Number of ways to choose 4 payment methods from 3 available types.\n",
        "# Since we are choosing 4 from 3 and replacement is implied (we can choose the same method multiple times), this is a combination with repetition problem.\n",
        "n = 3  # Number of payment method types\n",
        "r = 4  # Number of payment methods to display\n",
        "\n",
        "# Calculate combinations with repetition using the formula: (n + r - 1) C r\n",
        "ways = combinations(n + r - 1, r)\n",
        "print(f\"The number of ways to display 4 payment methods from 3 types is: {ways}\")\n"
      ],
      "metadata": {
        "colab": {
          "base_uri": "https://localhost:8080/"
        },
        "id": "DUxLOehmYa_Q",
        "outputId": "2e153eea-c7d1-4f60-faa6-ecaa3b16efe0"
      },
      "execution_count": 13,
      "outputs": [
        {
          "output_type": "stream",
          "name": "stdout",
          "text": [
            "The number of ways to display 4 payment methods from 3 types is: 15\n"
          ]
        }
      ]
    },
    {
      "cell_type": "code",
      "source": [
        "# In how many different ways can 5 employees be selected to participate in a customer feedback survey from a total of 15 employees?\n",
        "\n",
        "def combinations(n, r):\n",
        "  \"\"\"Computes the number of combinations of n items taken r at a time.\"\"\"\n",
        "  if n < 0 or r < 0 or r > n:\n",
        "    return \"Invalid input for combinations.\"\n",
        "  else:\n",
        "    return factorial(n) // (factorial(r) * factorial(n - r))\n",
        "\n",
        "def factorial(n):\n",
        "  \"\"\"Computes the factorial of a non-negative integer.\"\"\"\n",
        "  if n < 0:\n",
        "    return \"Factorial is not defined for negative numbers.\"\n",
        "  elif n == 0:\n",
        "    return 1\n",
        "  else:\n",
        "    fact = 1\n",
        "    for i in range(1, n + 1):\n",
        "      fact *= i\n",
        "    return fact\n",
        "\n",
        "# Calculate the number of ways to choose 5 employees from 15\n",
        "n = 15  # Total number of employees\n",
        "r = 5   # Number of employees to select\n",
        "\n",
        "ways = combinations(n, r)\n",
        "print(f\"The number of ways to select 5 employees from 15 is: {ways}\")\n"
      ],
      "metadata": {
        "colab": {
          "base_uri": "https://localhost:8080/"
        },
        "id": "EIoGn41CYi2m",
        "outputId": "f1ce87d3-0658-41fd-b366-37f8311add46"
      },
      "execution_count": 14,
      "outputs": [
        {
          "output_type": "stream",
          "name": "stdout",
          "text": [
            "The number of ways to select 5 employees from 15 is: 3003\n"
          ]
        }
      ]
    },
    {
      "cell_type": "code",
      "source": [
        "# If the supermarket wants to create unique invoice codes using 6 letters from the English alphabet, in how many ways can this be achieved?\n",
        "\n",
        "import math\n",
        "\n",
        "# Number of ways to create unique invoice codes using 6 letters from the English alphabet\n",
        "num_letters = 26  # There are 26 letters in the English alphabet\n",
        "code_length = 6    # Each invoice code has 6 letters\n",
        "\n",
        "# Using permutations since the order of letters matters for a unique code\n",
        "num_ways = math.pow(num_letters, code_length)\n",
        "\n",
        "print(f\"The number of ways to create unique invoice codes is: {int(num_ways)}\")\n"
      ],
      "metadata": {
        "colab": {
          "base_uri": "https://localhost:8080/"
        },
        "id": "j-7Et7gOYqf-",
        "outputId": "6c3fb72f-3186-4c3f-bab2-e7ed969d2847"
      },
      "execution_count": 15,
      "outputs": [
        {
          "output_type": "stream",
          "name": "stdout",
          "text": [
            "The number of ways to create unique invoice codes is: 308915776\n"
          ]
        }
      ]
    }
  ]
}